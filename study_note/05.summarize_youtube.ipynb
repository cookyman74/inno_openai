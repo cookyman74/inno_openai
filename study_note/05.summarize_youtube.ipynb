{
 "cells": [
  {
   "cell_type": "markdown",
   "source": [
    "## 유튜브의 자막을 추출하고 그에 따라 내용을 요약"
   ],
   "metadata": {
    "collapsed": false
   },
   "id": "9c6d6ad9e8882f07"
  },
  {
   "cell_type": "code",
   "execution_count": null,
   "id": "initial_id",
   "metadata": {
    "collapsed": true
   },
   "outputs": [],
   "source": []
  }
 ],
 "metadata": {
  "kernelspec": {
   "display_name": "Python 3",
   "language": "python",
   "name": "python3"
  },
  "language_info": {
   "codemirror_mode": {
    "name": "ipython",
    "version": 2
   },
   "file_extension": ".py",
   "mimetype": "text/x-python",
   "name": "python",
   "nbconvert_exporter": "python",
   "pygments_lexer": "ipython2",
   "version": "2.7.6"
  }
 },
 "nbformat": 4,
 "nbformat_minor": 5
}
