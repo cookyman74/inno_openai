{
 "cells": [
  {
   "cell_type": "markdown",
   "source": [
    "## 메시지 옵션\n",
    "messages는 대화의 각 부분을 구성하는 데 사용되며, 각 메시지는 \"role\"과 \"content\"라는 두 가지 주요 요소를 포함하는 딕셔너리 형태로 되어 있습니다. \n",
    "메시지 옵션에 선언되어 있는 각 \"role\"의 의미는 다음과 같습니다\n",
    "- \"system\": 시스템 전역 설정에 대한 지시문을 포함합니다. 예를 들어, 모델에 특정한 페르소나(persona)를 부여하거나, 대화의 맥락을 설정하는 데 사용됩니다.\n",
    "- \"user\": 사용자의 입력을 나타냅니다. 이는 대화에서 사용자가 질문하거나 요청한 내용을 담고 있습니다.\n",
    "- \"assistant\": AI 모델(예: ChatGPT)의 응답을 나타냅니다. 이는 모델이 생성한 답변이나 정보를 포함합니다."
   ],
   "metadata": {
    "collapsed": false
   },
   "id": "4d54afe9db76ea2c"
  },
  {
   "cell_type": "code",
   "execution_count": 23,
   "outputs": [],
   "source": [
    "from dotenv import load_dotenv\n",
    "from openai import OpenAI\n",
    "\n",
    "load_dotenv()\n",
    "client = OpenAI()\n",
    "\n",
    "def ask(question):\n",
    "    completion = client.chat.completions.create(\n",
    "        model=\"gpt-4-turbo-preview\",\n",
    "        messages=[\n",
    "            {\n",
    "                \"role\": \"system\",\n",
    "                \"content\": \"너는 친절한 관광 가이드이다. 반드시 한국어로 친절하게 답변해줘.\",\n",
    "            },\n",
    "            {\n",
    "                \"role\": \"user\",\n",
    "                \"content\": question,\n",
    "            },\n",
    "        ],\n",
    "    )\n",
    "    return completion"
   ],
   "metadata": {
    "collapsed": false,
    "ExecuteTime": {
     "end_time": "2024-06-12T15:12:07.132507Z",
     "start_time": "2024-06-12T15:12:07.099200Z"
    }
   },
   "id": "a861edf1cd45ac8a"
  },
  {
   "cell_type": "markdown",
   "source": [
    "**[Quez]** 함수로 선언한 경우, stream 모드를 적용하지 않는 이유는 ???"
   ],
   "metadata": {
    "collapsed": false
   },
   "id": "dcab0a8d48754567"
  },
  {
   "cell_type": "code",
   "execution_count": 25,
   "outputs": [
    {
     "name": "stdout",
     "output_type": "stream",
     "text": [
      "한국의 수도는 서울입니다. 서울은 한국의 정치, 경제, 문화의 중심지로 다양한 볼거리와 먹거리, 즐길 거리가 많은 매력적인 도시입니다.\n"
     ]
    }
   ],
   "source": [
    "answers = ask(\"한국의 수도는?\")\n",
    "print(answers.choices[0].message.content)"
   ],
   "metadata": {
    "collapsed": false,
    "ExecuteTime": {
     "end_time": "2024-06-12T15:13:02.445852Z",
     "start_time": "2024-06-12T15:12:58.501266Z"
    }
   },
   "id": "1cdac6ba621f8a51"
  },
  {
   "cell_type": "markdown",
   "source": [
    "**[Quez]** 이전에 물어본 것에 대해 다시 물어보면??"
   ],
   "metadata": {
    "collapsed": false
   },
   "id": "1eb5a51869a872ec"
  },
  {
   "cell_type": "code",
   "execution_count": 26,
   "outputs": [
    {
     "name": "stdout",
     "output_type": "stream",
     "text": [
      "물론이죠. 하지만 제가 확인할 수 있는 이전 대화가 없어서, 어떤 질문에 대한 답변을 원하시는지 구체적으로 알려주실 수 있으실까요? 그러면 거기에 맞는 답변을 제공해 드리겠습니다.\n"
     ]
    }
   ],
   "source": [
    "answers = ask(\"방금전 물어본 것에 대해 영어로 답변해줘.\")\n",
    "print(answers.choices[0].message.content)"
   ],
   "metadata": {
    "collapsed": false,
    "ExecuteTime": {
     "end_time": "2024-06-12T15:13:43.049521Z",
     "start_time": "2024-06-12T15:13:36.850867Z"
    }
   },
   "id": "cadcb4acc9d2864f"
  },
  {
   "cell_type": "markdown",
   "source": [
    "## 대화내용을 기억해두기.(대화의 연속성)\n",
    "`client.chat.completions.create()` 함수는 자체적으로 대화를 저장하는 기능이 없기 때문에, \n",
    "이전 문맥(context)을 기억하면서 대화를 이어나가기 위해서는(일반적인 ChatBot을 생각하시면 됩니다) \n",
    "다음과 같이 ask함수에 선언되어 있는 messages 옵션 중 system role에 대해 이전 대화내용을 추가하여 함께 물어봐야 합니다."
   ],
   "metadata": {
    "collapsed": false
   },
   "id": "2bb7badf5a4c9b19"
  },
  {
   "cell_type": "code",
   "execution_count": 29,
   "outputs": [],
   "source": [
    "from dotenv import load_dotenv\n",
    "from openai import OpenAI\n",
    "\n",
    "load_dotenv()\n",
    "client = OpenAI()\n",
    "\n",
    "def ask(question, history=[]):\n",
    "    if len(history) == 0:\n",
    "        # 최초 질문\n",
    "        history.append(\n",
    "            {\n",
    "                \"role\": \"system\",\n",
    "                \"content\": \"You are a helpful assistant. You must answer in Korean.\",\n",
    "            }\n",
    "        )\n",
    "    \n",
    "    # 사용자의 질문을 history에 추가\n",
    "    history.append(\n",
    "        {\n",
    "            \"role\": \"user\",\n",
    "            \"content\": question\n",
    "        }\n",
    "    )\n",
    "    # history를 물어보면 된다.\n",
    "    completion = client.chat.completions.create(\n",
    "        model=\"gpt-4-turbo-preview\",\n",
    "        messages=history,\n",
    "    )\n",
    "    # 마찬가지로 chatGPT 답변을 history에 추가.\n",
    "    history.append(\n",
    "        {\"role\": \"assistant\", \"content\": completion.choices[0].message.content}\n",
    "    )\n",
    "    return completion"
   ],
   "metadata": {
    "collapsed": false,
    "ExecuteTime": {
     "end_time": "2024-06-12T15:30:01.882748Z",
     "start_time": "2024-06-12T15:30:01.847849Z"
    }
   },
   "id": "a9b0ae172f9462d9"
  },
  {
   "cell_type": "code",
   "execution_count": 31,
   "outputs": [
    {
     "name": "stdout",
     "output_type": "stream",
     "text": [
      "영국의 수도는 런던입니다.\n"
     ]
    }
   ],
   "source": [
    "answers = ask(\"영국의 수도는?\")\n",
    "print(answers.choices[0].message.content)"
   ],
   "metadata": {
    "collapsed": false,
    "ExecuteTime": {
     "end_time": "2024-06-12T15:30:32.358402Z",
     "start_time": "2024-06-12T15:30:30.970189Z"
    }
   },
   "id": "4ffb9acda3deddf3"
  },
  {
   "cell_type": "code",
   "execution_count": 32,
   "outputs": [
    {
     "name": "stdout",
     "output_type": "stream",
     "text": [
      "The capital of the United Kingdom is London.\n"
     ]
    }
   ],
   "source": [
    "answers = ask(\"영어로 말해줘.\")\n",
    "print(answers.choices[0].message.content)"
   ],
   "metadata": {
    "collapsed": false,
    "ExecuteTime": {
     "end_time": "2024-06-12T15:31:00.358836Z",
     "start_time": "2024-06-12T15:30:59.168224Z"
    }
   },
   "id": "344c4f4a093809f6"
  },
  {
   "cell_type": "code",
   "execution_count": null,
   "outputs": [],
   "source": [],
   "metadata": {
    "collapsed": false
   },
   "id": "56b5062a5d4c4b0d"
  }
 ],
 "metadata": {
  "kernelspec": {
   "display_name": "Python 3",
   "language": "python",
   "name": "python3"
  },
  "language_info": {
   "codemirror_mode": {
    "name": "ipython",
    "version": 2
   },
   "file_extension": ".py",
   "mimetype": "text/x-python",
   "name": "python",
   "nbconvert_exporter": "python",
   "pygments_lexer": "ipython2",
   "version": "2.7.6"
  }
 },
 "nbformat": 4,
 "nbformat_minor": 5
}
