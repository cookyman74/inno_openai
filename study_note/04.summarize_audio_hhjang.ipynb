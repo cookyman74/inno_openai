{
 "cells": [
  {
   "cell_type": "markdown",
   "id": "a1b0d08914789d70",
   "metadata": {
    "collapsed": false,
    "jupyter": {
     "outputs_hidden": false
    }
   },
   "source": [
    "## Speech to Text 기능을 활용하여 회의내용을 요약해보자 "
   ]
  },
  {
   "cell_type": "code",
   "execution_count": 6,
   "id": "initial_id",
   "metadata": {},
   "outputs": [
    {
     "name": "stdin",
     "output_type": "stream",
     "text": [
      "회의 주제:  점심 회식에 대한 논의. 부채살 덮밥, 갈비 덮밥. 상장에 대한 논의. 회사의 입장\n"
     ]
    },
    {
     "name": "stdout",
     "output_type": "stream",
     "text": [
      "- 회의 주제: 점심 회식에 대한 논의\n",
      "- 음식 메뉴: 부채살 덮밥, 갈비 덮밥\n",
      "- 상장에 대한 회사 입장: 회사는 잘못된 상황이 아니라 생각하고, 업무는 잘 진행 중\n",
      "- 대표님의 공직적 입장 발표는 4주 월요일 예정\n",
      "- 의견: 대규모 인력 감축이 필요하다는 생각이 있음\n",
      "- 음식 메뉴 한정적이며 28,000원짜리 하나만 가능\n",
      "- 참석자들의 의견: 다양한 음식 메뉴를 선택하고 남은 돈은 다른 용도로 활용하고 싶은 의견\n",
      "- 음식 메뉴 선택 방법: 미션을 통해 참석자들이 원하는 음식을 골라주는 방식 제안\n",
      "- 음식 메뉴 종류: 갈비떡밥, 스키니야끼 떡밥, 보석떡밥, 보석삼겹떡밥\n",
      "- 결정: 육새떡밥이 없으면 회의를 마무리하도록 함\n",
      "\n",
      "회의록을 정리했습니다. 필요하신 부분이 있으면 말씀해주세요.\n"
     ]
    }
   ],
   "source": [
    "\n",
    "### 레퍼런스\n",
    "#- API Reference: https://platform.openai.com/docs/api-reference/audio/createTranscription \n",
    "from openai import OpenAI\n",
    "import os\n",
    "from dotenv import load_dotenv\n",
    "\n",
    "# 환경 변수 로드\n",
    "load_dotenv()\n",
    "\n",
    "# OpenAI 클라이언트 전역 변수 선언\n",
    "client = OpenAI(api_key=os.getenv(\"OPENAI_API_KEY\"))\n",
    "\n",
    "def transcribe(audio_filepath, file_name, topics):\n",
    "    #오디오 파일을 텍스트로 변환\n",
    "    full_path = os.path.join(audio_filepath, file_name)\n",
    "    with open(full_path, \"rb\") as audio_file:\n",
    "        transcription = client.audio.transcriptions.create(\n",
    "            model=\"whisper-1\", \n",
    "            file=audio_file,\n",
    "            prompt=topics,\n",
    "        )\n",
    "    return transcription.text\n",
    "\n",
    "def generate_prompt_from_filename(filename):\n",
    "    #파일명에서 프롬프트를 생성\n",
    "    base_name = os.path.basename(filename)\n",
    "    name_without_extension = os.path.splitext(base_name)[0]\n",
    "    return name_without_extension.replace('_', '와 ')\n",
    "\n",
    "def generate_prompt_from_user_input():\n",
    "    #사용자 입력으로부터 프롬프트를 생성\n",
    "    user_input = input(\"회의 주제: \")\n",
    "    return f\"너는 회의록을 정리하는 팀원이야. 회의록의 핵심 내용을 정리해줘. 회의 주제는 {user_input}이야.\"\n",
    "\n",
    "\n",
    "\n",
    "def generate_corrected_transcript(transcribed_text, prompt):\n",
    "    #텍스트를 요약하여 정리된 회의록을 생성\n",
    "    completion = client.chat.completions.create(\n",
    "        model=\"gpt-3.5-turbo\",\n",
    "        temperature=0.5,\n",
    "        messages=[\n",
    "            {\"role\": \"system\", \"content\": prompt},\n",
    "            {\"role\": \"user\", \"content\": transcribed_text}\n",
    "        ],\n",
    "    )\n",
    "    return completion.choices[0].message.content\n",
    "    \n",
    "def main():\n",
    "    audio_filepath = \"./\"\n",
    "    file_name = \"company_meeting_stock_lunch.m4a\"\n",
    "    prompt = generate_prompt_from_filename(file_name)\n",
    "    system_prompt = generate_prompt_from_user_input()\n",
    "    \n",
    "    transcribed_text = transcribe(audio_filepath, file_name, prompt)\n",
    "    corrected_text = generate_corrected_transcript(transcribed_text, system_prompt)\n",
    "    \n",
    "    print(corrected_text)\n",
    "\n",
    "if __name__ == \"__main__\":\n",
    "    main()\n"
   ]
  },
  {
   "cell_type": "code",
   "execution_count": null,
   "id": "a45f9c4e-8733-44fa-b21e-5f4dcbe1bf5f",
   "metadata": {},
   "outputs": [],
   "source": []
  },
  {
   "cell_type": "code",
   "execution_count": null,
   "id": "a14715a5-7b78-4fb5-9cc9-fac54b43a2a5",
   "metadata": {},
   "outputs": [],
   "source": []
  }
 ],
 "metadata": {
  "kernelspec": {
   "display_name": "Python 3 (ipykernel)",
   "language": "python",
   "name": "python3"
  },
  "language_info": {
   "codemirror_mode": {
    "name": "ipython",
    "version": 3
   },
   "file_extension": ".py",
   "mimetype": "text/x-python",
   "name": "python",
   "nbconvert_exporter": "python",
   "pygments_lexer": "ipython3",
   "version": "3.11.4"
  }
 },
 "nbformat": 4,
 "nbformat_minor": 5
}
