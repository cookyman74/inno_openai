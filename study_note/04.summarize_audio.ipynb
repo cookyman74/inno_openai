{
 "cells": [
  {
   "cell_type": "markdown",
   "source": [
    "## Speech to Text 기능을 활용하여 회의내용을 요약해보자 "
   ],
   "metadata": {
    "collapsed": false
   },
   "id": "a1b0d08914789d70"
  },
  {
   "cell_type": "code",
   "execution_count": null,
   "id": "initial_id",
   "metadata": {
    "collapsed": true
   },
   "outputs": [],
   "source": []
  }
 ],
 "metadata": {
  "kernelspec": {
   "display_name": "Python 3",
   "language": "python",
   "name": "python3"
  },
  "language_info": {
   "codemirror_mode": {
    "name": "ipython",
    "version": 2
   },
   "file_extension": ".py",
   "mimetype": "text/x-python",
   "name": "python",
   "nbconvert_exporter": "python",
   "pygments_lexer": "ipython2",
   "version": "2.7.6"
  }
 },
 "nbformat": 4,
 "nbformat_minor": 5
}
