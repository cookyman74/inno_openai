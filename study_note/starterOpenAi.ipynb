{
 "cells": [
  {
   "cell_type": "code",
   "execution_count": 1,
   "id": "initial_id",
   "metadata": {
    "collapsed": true,
    "ExecuteTime": {
     "end_time": "2024-06-10T16:34:33.616326Z",
     "start_time": "2024-06-10T16:34:33.601698Z"
    }
   },
   "outputs": [
    {
     "data": {
      "text/plain": "True"
     },
     "execution_count": 1,
     "metadata": {},
     "output_type": "execute_result"
    }
   ],
   "source": [
    "from dotenv import load_dotenv\n",
    "\n",
    "load_dotenv()"
   ]
  },
  {
   "cell_type": "code",
   "execution_count": 2,
   "outputs": [
    {
     "data": {
      "text/plain": "'1.6.0'"
     },
     "execution_count": 2,
     "metadata": {},
     "output_type": "execute_result"
    }
   ],
   "source": [
    "import openai\n",
    "openai.__version__"
   ],
   "metadata": {
    "collapsed": false,
    "ExecuteTime": {
     "end_time": "2024-06-10T16:35:14.216519Z",
     "start_time": "2024-06-10T16:35:13.161494Z"
    }
   },
   "id": "bd5f6d15271b7b76"
  },
  {
   "cell_type": "markdown",
   "source": [
    "### 레퍼런스\n",
    "- API Reference: https://platform.openai.com/docs/api-reference/chat\n",
    "\n",
    "### message 파라미터\n",
    "- `messages`: 지금까지의 대화를 구성하는 메시지 목록입니다.\n",
    "- `frequency_penalty`: -2.0에서 2.0 사이의 숫자. 양수 값은 지금까지 텍스트에 나타난 기존 빈도에 따라 새로운 토큰에 불이익을 주어 모델이 같은 줄을 그대로 반복할 가능성을 낮춥니다.\n",
    "- `max_tokens`: 생성할 수 있는 최대 토큰 수입니다. 입력 토큰과 생성된 토큰의 총 길이는 모델의 컨텍스트 길이에 의해 제한됩니다.\n",
    "- `n`: 각 입력 메시지에 대해 생성할 선택지(choices) 수입니다. [주의] 모든 선택 항목에서 생성된 토큰 수에 따라 요금이 부과된다는 점에 유의하세요. 비용을 최소화하려면 n을 1로 유지하세요.\n",
    "- `presence_penalty`: -2.0에서 2.0 사이의 숫자. 값이 양수이면 지금까지 텍스트에 등장한 토큰에 따라 새로운 토큰에 불이익을 주므로 모델이 새로운 주제에 대해 이야기할 가능성이 높아집니다.\n",
    "- `response_format`: 모델이 출력해야 하는 형식을 지정하는 객체입니다. `gpt-4-turbo-preview` 및 `gpt-3.5-turbo` 과 호환됩니다. `{ \"type\": \"json_object\" }` 로 설정하면 JSON 모드가 활성화되어 모델이 생성하는 메시지가 유효한 JSON임을 보장합니다.\n",
    "- `seed`: 이 기능을 지정하면 시스템이 결정론적으로 샘플링하여 동일한 시드와 매개변수를 사용한 반복 요청이 동일한 결과를 반환하도록 최선을 다할 것입니다. 결정론은 보장되지 않으며, `system_fingerprint` 응답 매개변수를 참조하여 백엔드의 변경 사항을 모니터링해야 합니다.\n",
    "- `temperature`: 0에서 2 사이에서 사용할 샘플링 온도입니다. 0.8과 같이 값이 높으면 출력이 더 무작위적이고, 0.2와 같이 값이 낮으면 더 집중적이고 결정론적인 출력이 됩니다. 일반적으로 이 값이나 `top_p` 중 하나만 변경하는 것이 좋지만 둘 다 변경하지는 않는 것이 좋습니다.\n",
    "- `top_p`: `temperature` 를 이용한 샘플링의 대안으로, 핵 샘플링이라고 하며, 모델이 `top_p` 확률을 가진 토큰의 결과를 고려하는 방식입니다. 따라서 0.1은 상위 10% 확률을 구성하는 토큰만 고려한다는 의미입니다. 일반적으로 이 값이나 `temperature` 중 하나를 변경하는 것이 좋지만 둘 다 변경하는 것은 권장하지 않습니다."
   ],
   "metadata": {
    "collapsed": false
   },
   "id": "78d11e3fb7e79294"
  },
  {
   "cell_type": "code",
   "execution_count": 7,
   "outputs": [
    {
     "data": {
      "text/plain": "ChatCompletion(id='chatcmpl-9YcPtyGgbHrMpsWuCooOJFEiEHCXD', choices=[Choice(finish_reason='stop', index=0, logprobs=None, message=ChatCompletionMessage(content='프로그래머 면접을 볼 때 가장 중요한 부분은 다음과 같습니다:\\n\\n1. 기술적인 능력: 프로그래밍 언어, 알고리즘, 자료구조 등에 대한 이해와 능력을 살펴봅니다. 실제로 코드를 작성하거나 문제를 해결하는 능력을 테스트할 수도 있습니다.\\n\\n2. 문제 해결 능력: 복잡한 문제에 대한 분석과 해결 능력을 평가합니다. 주어진 상황에서 어떻게 문제를 해결하고 어떤 접근 방식을 사용하는지가 중요합니다.\\n\\n3. 커뮤니케이션 능력: 기술적인 개념을 이해하고 설명하는 능력, 팀원들과 원활하게 소통하는 능력을 평가합니다. 프로젝트나 코드를 설명하고 논의할 수 있는 능력도 중요합니다.\\n\\n4. 프로젝트 경험과 업무 처리 능력: 이전 프로젝트에서의 역할과 성과, 문제 해결 능력, 협업 능력 등을 평가합니다.\\n\\n5. 업데이트된 기술 지식: 최신 기술 트렌드나 도구들에 대한 이해와 관심이 있는지를 확인합니다. 지속적으로 학습하고 발전하는 모습을 보여주는 것이 좋습니다.\\n\\n이러한 부분들을 종합적으로 고려하여 적합한 후보를 선택하는 것이 중요합니다.', role='assistant', function_call=None, tool_calls=None))], created=1718037853, model='gpt-3.5-turbo-0125', object='chat.completion', system_fingerprint=None, usage=CompletionUsage(completion_tokens=458, prompt_tokens=57, total_tokens=515))"
     },
     "execution_count": 7,
     "metadata": {},
     "output_type": "execute_result"
    }
   ],
   "source": [
    "from openai import OpenAI\n",
    "\n",
    "client = OpenAI()\n",
    "\n",
    "completion = client.chat.completions.create(\n",
    "    model=\"gpt-3.5-turbo\",\n",
    "    messages=[\n",
    "        {\n",
    "            \"role\": \"system\",\n",
    "            \"content\": \"당신은 면접관이다.\",\n",
    "        },\n",
    "        {\n",
    "            \"role\": \"user\",\n",
    "            \"content\": \"자바 프로그래머 면접을 볼때 가장 중요하게 보는 부분은 무엇인가?\",\n",
    "        },\n",
    "    ],\n",
    ")\n",
    "\n",
    "completion"
   ],
   "metadata": {
    "collapsed": false,
    "ExecuteTime": {
     "end_time": "2024-06-10T16:44:18.639879Z",
     "start_time": "2024-06-10T16:44:10.894777Z"
    }
   },
   "id": "b46563bb31704a56"
  },
  {
   "cell_type": "code",
   "execution_count": 8,
   "outputs": [
    {
     "name": "stdout",
     "output_type": "stream",
     "text": [
      "피보나치 수열을 생성하는 파이썬 프로그램은 다음과 같이 작성할 수 있습니다. 여기서는 피보나치 수열의 첫 n개의 숫자를 반환하는 함수를 예시로 듭니다.\n",
      "```python\n",
      "def fibonacci(n):\n",
      "    # 첫 번째와 두 번째 수를 담은 리스트 초기화\n",
      "    fib_sequence = [0, 1]\n",
      "    \n",
      "    # n개의 숫자를 생성할 때까지 반복\n",
      "    for i in range(2, n):\n",
      "        # 다음 피보나치 수는 마지막 두 수의 합\n",
      "        next_fib = fib_sequence[-1] + fib_sequence[-2]\n",
      "        fib_sequence.append(next_fib)\n",
      "        \n",
      "    # n개의 피보나치 수열 반환\n",
      "    return fib_sequence[:n]\n",
      "\n",
      "# 예제 실행\n",
      "n = 10  # 생성할 피보나치 수열의 길이\n",
      "print(fibonacci(n))\n",
      "```\n",
      "이 코드는 함수 `fibonacci`를 정의하여, 첫 번째 인자로 받은 `n`에 따라 피보나치 수열의 첫 n개 항목을 계산하고 반환합니다. 참고로 피보나치 수열은 각 항이 바로 앞의 두 항의 합으로 이루어진 수열로, 이 예시에서는 첫 두 항을 0과 1로 시작합니다.\n",
      "\n",
      "이 스크립트를 실행하면, 지정된 길이 `n`의 피보나치 수열을 얻을 수 있습니다. 예를 들어 `n = 10`으로 설정하면, 첫 10개 항목인 `[0, 1, 1, 2, 3, 5, 8, 13, 21, 34]`를 출력합니다.피보나치 수열을 생성하는 파이썬 프로그램은 다음과 같이 작성할 수 있습니다. 여기서는 피보나치 수열의 첫 n개의 숫자를 반환하는 함수를 예시로 듭니다.\n",
      "\n",
      "```python\n",
      "def fibonacci(n):\n",
      "    # 첫 번째와 두 번째 수를 담은 리스트 초기화\n",
      "    fib_sequence = [0, 1]\n",
      "    \n",
      "    # n개의 숫자를 생성할 때까지 반복\n",
      "    for i in range(2, n):\n",
      "        # 다음 피보나치 수는 마지막 두 수의 합\n",
      "        next_fib = fib_sequence[-1] + fib_sequence[-2]\n",
      "        fib_sequence.append(next_fib)\n",
      "        \n",
      "    # n개의 피보나치 수열 반환\n",
      "    return fib_sequence[:n]\n",
      "\n",
      "# 예제 실행\n",
      "n = 10  # 생성할 피보나치 수열의 길이\n",
      "print(fibonacci(n))\n",
      "```\n",
      "이 코드는 함수 `fibonacci`를 정의하여, 첫 번째 인자로 받은 `n`에 따라 피보나치 수열의 첫 n개 항목을 계산하고 반환합니다. 참고로 피보나치 수열은 각 항이 바로 앞의 두 항의 합으로 이루어진 수열로, 이 예시에서는 첫 두 항을 0과 1로 시작합니다.\n",
      "\n",
      "이 스크립트를 실행하면, 지정된 길이 `n`의 피보나치 수열을 얻을 수 있습니다. 예를 들어 `n = 10`으로 설정하면, 첫 10개 항목인 `[0, 1, 1, 2, 3, 5, 8, 13, 21, 34]`를 출력합니다.\n"
     ]
    }
   ],
   "source": [
    "from openai import OpenAI\n",
    "\n",
    "client = OpenAI()\n",
    "\n",
    "completion = client.chat.completions.create(\n",
    "    model=\"gpt-4-turbo-preview\",\n",
    "    messages=[\n",
    "        {\n",
    "            \"role\": \"system\",\n",
    "            \"content\": \"당신은 파이썬 프로그래머입니다.\",\n",
    "        },\n",
    "        {\n",
    "            \"role\": \"user\",\n",
    "            \"content\": \"피보나치 수열을 생성하는 파이썬 프로그램을 작성해주세요.\",\n",
    "        },\n",
    "    ],\n",
    "    stream=True,  # 스트림 모드 활성화\n",
    ")\n",
    "\n",
    "final_answer = []\n",
    "\n",
    "# 스트림 모드에서는 completion.choices 를 반복문으로 순회\n",
    "for chunk in completion:\n",
    "    # chunk 를 저장\n",
    "    chunk_content = chunk.choices[0].delta.content\n",
    "    # chunk 가 문자열이면 final_answer 에 추가\n",
    "    if isinstance(chunk_content, str):\n",
    "        final_answer.append(chunk_content)\n",
    "        # 토큰 단위로 실시간 답변 출력\n",
    "        print(chunk_content, end=\"\")\n",
    "\n",
    "# 전체 답변인 final_answer 를 문자열로 변환하여 출력\n",
    "final_answer = \"\".join(final_answer)\n",
    "print(final_answer)"
   ],
   "metadata": {
    "collapsed": false,
    "ExecuteTime": {
     "end_time": "2024-06-10T16:45:57.897144Z",
     "start_time": "2024-06-10T16:45:21.910821Z"
    }
   },
   "id": "a861edf1cd45ac8a"
  },
  {
   "cell_type": "markdown",
   "source": [
    "## 스트리밍(Streaming)\n",
    "스트리밍은 실시간으로 데이터를 전송하고 수신하는 프로세스입니다. 이 기능을 사용하면, 대화형 모델이 토큰 단위로 응답을 생성하고, 사용자는 모델이 응답을 생성하는 과정을 실시간으로 볼 수 있습니다. 이는 특히 긴 답변을 생성하는 경우 유용하며, 사용자에게 대화가 더 자연스럽고 동적으로 느껴지게 만듭니다.\n",
    "Jupyter Notebook에서 스트리밍 형식으로 실시간 답변을 출력하는 것은 다음과 같은 방법으로 수행할 수 있습니다.\n",
    "이때, create() 함수내에 stream=True 옵션을 지정하면 됩니다.\n",
    "또한, 토큰 단위로 실시간 출력을 위해서는 `completion` 을 순회하면서, `choices.delta.content` 를 출력해야 합니다."
   ],
   "metadata": {
    "collapsed": false
   },
   "id": "dcab0a8d48754567"
  },
  {
   "cell_type": "code",
   "execution_count": null,
   "outputs": [],
   "source": [],
   "metadata": {
    "collapsed": false
   },
   "id": "12ed417eb372eb99"
  }
 ],
 "metadata": {
  "kernelspec": {
   "display_name": "Python 3",
   "language": "python",
   "name": "python3"
  },
  "language_info": {
   "codemirror_mode": {
    "name": "ipython",
    "version": 2
   },
   "file_extension": ".py",
   "mimetype": "text/x-python",
   "name": "python",
   "nbconvert_exporter": "python",
   "pygments_lexer": "ipython2",
   "version": "2.7.6"
  }
 },
 "nbformat": 4,
 "nbformat_minor": 5
}
